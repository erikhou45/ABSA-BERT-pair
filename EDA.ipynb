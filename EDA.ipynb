{
 "cells": [
  {
   "cell_type": "markdown",
   "metadata": {},
   "source": [
    "# EDA\n",
    "\n",
    "In this EDA notebook. We examine the properties of the data in order to:\n",
    "1. Evaluate if the NLI_M model proposed by Sun et al. can be used. \n",
    "2. Establish the Naive Baseline by:\n",
    "    * Calculating the average number aspect categories associated with a review\n",
    "    * The most common aspect categories\n",
    "    * The average probabilty weights of different sentiments by aspect categories\n",
    "3. Explore label proportion when applying different sampling strategies"
   ]
  },
  {
   "cell_type": "code",
   "execution_count": 1,
   "metadata": {},
   "outputs": [],
   "source": [
    "import os\n",
    "from collections import defaultdict\n",
    "import matplotlib.pyplot as plt\n",
    "import scipy.stats as stats\n",
    "import pandas as pd\n",
    "\n",
    "import tokenization\n",
    "from tqdm import tqdm"
   ]
  },
  {
   "cell_type": "markdown",
   "metadata": {},
   "source": [
    "## 1. Examine the Review Lengths after Tokenization\n",
    "\n",
    "In order to use the NLI_M model proposed by Sun et al. We will need to make sure most review can fit into the sequence length of 512 after being tokenized by into Wordpiece tokens"
   ]
  },
  {
   "cell_type": "code",
   "execution_count": 2,
   "metadata": {},
   "outputs": [],
   "source": [
    "#set up\n",
    "vocab_file = \"multi_cased_L-12_H-768_A-12/vocab.txt\"\n",
    "tokenizer = tokenization.FullTokenizer(\n",
    "    vocab_file=vocab_file, do_lower_case=False)"
   ]
  },
  {
   "cell_type": "code",
   "execution_count": 3,
   "metadata": {},
   "outputs": [],
   "source": [
    "import os\n",
    "from collections import defaultdict\n",
    "\n",
    "import tokenization\n",
    "from tqdm import tqdm"
   ]
  },
  {
   "cell_type": "code",
   "execution_count": 4,
   "metadata": {},
   "outputs": [],
   "source": [
    "# parse the .xml file and take a look at the sequence lengths at review-level\n",
    "\n",
    "data_dir='./data/semeval2016/bert-pair/text-level/'\n",
    "file_name = 'EN_Laptop_Text_Train_Complete_NLI_M.csv'\n",
    "\n",
    "# load file\n",
    "with open(data_dir+file_name,\"r\",encoding=\"utf-8\") as f:\n",
    "    s=f.readline().strip()\n",
    "    examples = []\n",
    "    while s:\n",
    "        cols = s.split(\"\\t\")\n",
    "        rid = cols[0]\n",
    "        text_a = cols[2]\n",
    "        text_b = cols[3]\n",
    "        examples.append((rid,text_b))\n",
    "        s=f.readline().strip()"
   ]
  },
  {
   "cell_type": "code",
   "execution_count": 5,
   "metadata": {
    "scrolled": true
   },
   "outputs": [
    {
     "name": "stdout",
     "output_type": "stream",
     "text": [
      "76230\n"
     ]
    }
   ],
   "source": [
    "# Check number of records\n",
    "print(len(examples))"
   ]
  },
  {
   "cell_type": "code",
   "execution_count": 6,
   "metadata": {},
   "outputs": [
    {
     "name": "stderr",
     "output_type": "stream",
     "text": [
      "100%|██████████| 76230/76230 [01:12<00:00, 1057.00it/s]\n"
     ]
    }
   ],
   "source": [
    "# Transform in the wordpiece tokens and calculate sequence lengths\n",
    "from tqdm import tqdm\n",
    "lengths = []\n",
    "for rid, text in tqdm(examples):\n",
    "    lengths.append(len(tokenizer.tokenize(text)))"
   ]
  },
  {
   "cell_type": "code",
   "execution_count": 7,
   "metadata": {},
   "outputs": [
    {
     "data": {
      "text/plain": [
       "(array([25740., 23760., 10296.,  5544.,  3762.,  3366.,  1386.,   990.,\n",
       "          990.,   396.]),\n",
       " array([  9.,  55., 101., 147., 193., 239., 285., 331., 377., 423., 469.]),\n",
       " <a list of 10 Patch objects>)"
      ]
     },
     "execution_count": 7,
     "metadata": {},
     "output_type": "execute_result"
    },
    {
     "data": {
      "image/png": "[encoded data removed]",
      "text/plain": [
       "<Figure size 432x288 with 1 Axes>"
      ]
     },
     "metadata": {
      "needs_background": "light"
     },
     "output_type": "display_data"
    }
   ],
   "source": [
    "# plot a histogram\n",
    "plt.hist(lengths)"
   ]
  },
  {
   "cell_type": "code",
   "execution_count": 8,
   "metadata": {
    "scrolled": true
   },
   "outputs": [
    {
     "data": {
      "text/plain": [
       "DescribeResult(nobs=76230, minmax=(9, 469), mean=104.01298701298701, variance=7295.900735190769, skewness=1.6223863456381131, kurtosis=2.571300071849702)"
      ]
     },
     "execution_count": 8,
     "metadata": {},
     "output_type": "execute_result"
    }
   ],
   "source": [
    "# describe stats\n",
    "stats.describe(lengths)"
   ]
  },
  {
   "cell_type": "markdown",
   "metadata": {},
   "source": [
    "From the above diagram and stats, we know that the reviews are short enough to fit into the model"
   ]
  },
  {
   "cell_type": "markdown",
   "metadata": {},
   "source": [
    "## 2 Establish Naive Baseline"
   ]
  },
  {
   "cell_type": "markdown",
   "metadata": {},
   "source": [
    "### 2.1 Entity-Aspect Classification Task"
   ]
  },
  {
   "cell_type": "markdown",
   "metadata": {},
   "source": [
    "In this section, we examine the training data file, `EN_Laptop_Train_Complete_NLI_M.csv` (the complete training set) to determine the baseline to use for our metrics. Ideally, our cross-lingual model should perform better than the baseline to show that training using English data will help the model to perform the same task in Chinese."
   ]
  },
  {
   "cell_type": "code",
   "execution_count": 9,
   "metadata": {},
   "outputs": [],
   "source": [
    "data_dir='./data/semeval2016/bert-pair/text-level/'\n",
    "\n",
    "file_name = 'EN_Laptop_Text_Train_Complete'\n",
    "task_name = 'NLI_M'\n",
    "\n",
    "train_df = pd.read_csv(data_dir+file_name+\"_\"+task_name+\".csv\", sep = \"\\t\", names = [\"sent_id\", \"polarity\", \"entity-aspect\", \"text\"])"
   ]
  },
  {
   "cell_type": "code",
   "execution_count": 10,
   "metadata": {},
   "outputs": [
    {
     "data": {
      "text/plain": [
       "count    385.000000\n",
       "mean       5.200000\n",
       "std        2.423625\n",
       "min        1.000000\n",
       "25%        3.000000\n",
       "50%        5.000000\n",
       "75%        6.000000\n",
       "max       14.000000\n",
       "Name: quant_pol, dtype: float64"
      ]
     },
     "execution_count": 10,
     "metadata": {},
     "output_type": "execute_result"
    }
   ],
   "source": [
    "# get a series with sentence as id and the number of entity-aspects associated with as value and summarize the stats\n",
    "train_df[\"quant_pol\"] = train_df.polarity.map({'positive':1, 'neutral':1, 'negative':1, 'conflict':1,'none':0})\n",
    "train_df.groupby(by = [\"sent_id\"]).quant_pol.sum().describe()"
   ]
  },
  {
   "cell_type": "code",
   "execution_count": 11,
   "metadata": {
    "scrolled": true
   },
   "outputs": [
    {
     "data": {
      "text/html": [
       "<div>\n",
       "<style scoped>\n",
       "    .dataframe tbody tr th:only-of-type {\n",
       "        vertical-align: middle;\n",
       "    }\n",
       "\n",
       "    .dataframe tbody tr th {\n",
       "        vertical-align: top;\n",
       "    }\n",
       "\n",
       "    .dataframe thead th {\n",
       "        text-align: right;\n",
       "    }\n",
       "</style>\n",
       "<table border=\"1\" class=\"dataframe\">\n",
       "  <thead>\n",
       "    <tr style=\"text-align: right;\">\n",
       "      <th></th>\n",
       "      <th>count</th>\n",
       "    </tr>\n",
       "    <tr>\n",
       "      <th>entity-aspect</th>\n",
       "      <th></th>\n",
       "    </tr>\n",
       "  </thead>\n",
       "  <tbody>\n",
       "    <tr>\n",
       "      <th>LAPTOP-GENERAL</th>\n",
       "      <td>385</td>\n",
       "    </tr>\n",
       "    <tr>\n",
       "      <th>LAPTOP-OPERATION_PERFORMANCE</th>\n",
       "      <td>190</td>\n",
       "    </tr>\n",
       "    <tr>\n",
       "      <th>LAPTOP-DESIGN_FEATURES</th>\n",
       "      <td>150</td>\n",
       "    </tr>\n",
       "    <tr>\n",
       "      <th>LAPTOP-QUALITY</th>\n",
       "      <td>148</td>\n",
       "    </tr>\n",
       "    <tr>\n",
       "      <th>LAPTOP-PRICE</th>\n",
       "      <td>114</td>\n",
       "    </tr>\n",
       "  </tbody>\n",
       "</table>\n",
       "</div>"
      ],
      "text/plain": [
       "                              count\n",
       "entity-aspect                      \n",
       "LAPTOP-GENERAL                  385\n",
       "LAPTOP-OPERATION_PERFORMANCE    190\n",
       "LAPTOP-DESIGN_FEATURES          150\n",
       "LAPTOP-QUALITY                  148\n",
       "LAPTOP-PRICE                    114"
      ]
     },
     "execution_count": 11,
     "metadata": {},
     "output_type": "execute_result"
    }
   ],
   "source": [
    "# View the top 5 most common entity-aspect combo\n",
    "count_df = train_df.loc[train_df[\"polarity\"] != \"none\", [\"sent_id\", \"entity-aspect\"]] \\\n",
    "                   .groupby(by=\"entity-aspect\") \\\n",
    "                   .agg(count = (\"sent_id\", \"count\"))\n",
    "count_df.sort_values(by = \"count\", ascending=False) \\\n",
    "        .head(5)"
   ]
  },
  {
   "cell_type": "markdown",
   "metadata": {},
   "source": [
    "From the above EDA, we see that both the average and median number of aspect categories associated with a review is closest to five. A reasonable baseline could be using the just the most common 5 aspect categories above as the guesses for the entity-aspect classification task."
   ]
  },
  {
   "cell_type": "markdown",
   "metadata": {},
   "source": [
    "### 2.2 How we stablish naive baseline for sentiment classification task"
   ]
  },
  {
   "cell_type": "markdown",
   "metadata": {},
   "source": [
    "The sentiment classification task evaluates the sentiments for different entity-aspect combination separately. Therefore, since we have 198 combinations, we will need 198 different sentiments as baselines for the entity-aspect combos respectively. \n",
    "\n",
    "In addition, we will calculate the probability weights of different sentiments for a given aspect category by counting the number of reviews associated with that particular aspect category and sentiment and then normalize. So we can use the resulting weights to calculate 3 class and 2 class accuracies. \n",
    "\n",
    "Lastly, we will also use the most common sentiments in the training set as prediction for entity-aspect combination that exists in test set but not in the training set.\n",
    "\n",
    "Acceptable sentiments are non-none."
   ]
  },
  {
   "cell_type": "markdown",
   "metadata": {},
   "source": [
    "### 2.3 Make Baseline Files"
   ]
  },
  {
   "cell_type": "code",
   "execution_count": 12,
   "metadata": {},
   "outputs": [],
   "source": [
    "test_file = \"./data/semeval2016/bert-pair/text-level/EN_Laptop_Text_Test_Gold_NLI_M.csv\"\n",
    "df_test = pd.read_csv(test_file, \n",
    "                     delimiter = \"\\t\",\n",
    "                     names = [\"sent_id\", \"label\", \"entity-aspect\", \"text\"]\n",
    "                     )\n",
    "map_dict = {'positive':0, 'neutral':1, 'negative':2, 'conflict':3, 'none':4}\n"
   ]
  },
  {
   "cell_type": "markdown",
   "metadata": {},
   "source": [
    "Calculate the probability weights by counting reviews in the training file"
   ]
  },
  {
   "cell_type": "code",
   "execution_count": 13,
   "metadata": {},
   "outputs": [],
   "source": [
    "pol_by_aspect = train_df.loc[:,[\"sent_id\", \"polarity\", \"entity-aspect\"]] \\\n",
    "                        .groupby(by = [\"entity-aspect\", \"polarity\"]) \\\n",
    "                        .agg(count = (\"sent_id\", \"count\")) \\\n",
    "                        .unstack(fill_value = 0)\n",
    "pol_by_aspect.columns = pol_by_aspect.columns.droplevel()\n",
    "pol_by_aspect = pol_by_aspect[[\"positive\", \"neutral\", \"negative\", \"conflict\", \"none\"]]"
   ]
  },
  {
   "cell_type": "code",
   "execution_count": 14,
   "metadata": {},
   "outputs": [],
   "source": [
    "baseline_probs = pol_by_aspect.divide(pol_by_aspect.sum(axis=1), axis=0)"
   ]
  },
  {
   "cell_type": "markdown",
   "metadata": {},
   "source": [
    "Modify the sentiment prediction and probability weights for the top 5 aspect categories identified in Section 2.1"
   ]
  },
  {
   "cell_type": "code",
   "execution_count": 15,
   "metadata": {},
   "outputs": [],
   "source": [
    "baseline_probs.insert(loc = 0, column = \"pred\", value = \"none\")\n",
    "baseline_probs.loc[\"LAPTOP-GENERAL\", :] = [\"positive\", 1.0, 0.0, 0.0, 0.0, 0.0]\n",
    "baseline_probs.loc[\"LAPTOP-OPERATION_PERFORMANCE\", :] = [\"positive\", 1.0, 0.0, 0.0, 0.0, 0.0]\n",
    "baseline_probs.loc[\"LAPTOP-DESIGN_FEATURES\", :] = [\"positive\", 1.0, 0.0, 0.0, 0.0, 0.0]\n",
    "baseline_probs.loc[\"LAPTOP-PRICE\", :] = [\"positive\", 1.0, 0.0, 0.0, 0.0, 0.0]\n",
    "baseline_probs.loc[\"LAPTOP-QUALITY\", :] = [\"negative\", 0.0, 0.0, 1.0, 0.0, 0.0]\n",
    "baseline_probs[\"pred\"] = baseline_probs.pred.map(map_dict)\n",
    "baseline_probs = baseline_probs.reset_index()"
   ]
  },
  {
   "cell_type": "code",
   "execution_count": 17,
   "metadata": {},
   "outputs": [],
   "source": [
    "test_baseline_df = df_test.reset_index().merge(baseline_probs)"
   ]
  },
  {
   "cell_type": "code",
   "execution_count": 18,
   "metadata": {},
   "outputs": [],
   "source": [
    "test_baseline_df = test_baseline_df.sort_values(by=\"index\")"
   ]
  },
  {
   "cell_type": "code",
   "execution_count": 19,
   "metadata": {},
   "outputs": [],
   "source": [
    "# Uncomment to SAVE THE TEST BASELINE FILES\n",
    "# for i in range(6):\n",
    "#     test_baseline_df.iloc[:,-6:].to_csv(f\"results/semeval2016/text-level/Test_Baseline/test_ep_{i+1}.txt\", sep = \" \", index=False, header=False)"
   ]
  },
  {
   "cell_type": "markdown",
   "metadata": {},
   "source": [
    "## 3 Sampling Strategy Exploration\n",
    "\n",
    "In this section, we listed the sampling strategies used in the projects and the resulting label proportion in the training set."
   ]
  },
  {
   "cell_type": "code",
   "execution_count": 20,
   "metadata": {},
   "outputs": [],
   "source": [
    "data_dir='./data/semeval2016/bert-pair/text-level/'\n",
    "\n",
    "file_name = 'EN_Laptop_Text_Train'\n",
    "task_name = 'NLI_M'\n",
    "\n",
    "df_train = pd.read_csv(data_dir+file_name+\"_\"+task_name+\".csv\", sep = \"\\t\", names = [\"sent_id\", \"label\", \"entity-aspect\", \"text\"])\n",
    "map_dict = {'positive':0, 'neutral':1, 'negative':2, 'conflict':3, 'none':4}\n",
    "df_train[\"label\"] = df_train.label.map(map_dict)"
   ]
  },
  {
   "cell_type": "code",
   "execution_count": 21,
   "metadata": {},
   "outputs": [
    {
     "name": "stdout",
     "output_type": "stream",
     "text": [
      "Combo-Samping-1\n",
      "label\n",
      "0    0.054508\n",
      "1    0.006207\n",
      "2    0.033676\n",
      "3    0.001905\n",
      "4    0.903704\n",
      "Name: sent_id, dtype: float64\n",
      "========================================\n",
      "Combo-Samping-2\n",
      "label\n",
      "0    0.085367\n",
      "1    0.009720\n",
      "2    0.052741\n",
      "3    0.002984\n",
      "4    0.849188\n",
      "Name: sent_id, dtype: float64\n",
      "========================================\n",
      "Combo-Samping-3\n",
      "label\n",
      "0    0.141403\n",
      "1    0.016101\n",
      "2    0.087361\n",
      "3    0.004942\n",
      "4    0.750193\n",
      "Name: sent_id, dtype: float64\n",
      "========================================\n",
      "Over-Sampling-1\n",
      "label\n",
      "0    0.028633\n",
      "1    0.003260\n",
      "2    0.017690\n",
      "3    0.001001\n",
      "4    0.949417\n",
      "Name: sent_id, dtype: float64\n",
      "========================================\n",
      "Over-Sampling-2\n",
      "label\n",
      "0    0.021523\n",
      "1    0.004902\n",
      "2    0.019503\n",
      "3    0.002507\n",
      "4    0.951565\n",
      "Name: sent_id, dtype: float64\n",
      "========================================\n"
     ]
    }
   ],
   "source": [
    "#Iteration 2, Model Name: Combo-Samping-1\n",
    "#Duplicate each non-none example by a factor of 2\n",
    "#Randomly drop 50 percent of none examples\n",
    "count_by_2016 = df_train.groupby(by=\"label\").sent_id.count()\n",
    "count_by_2016.iloc[:4] = count_by_2016.iloc[:4]*2\n",
    "count_by_2016.iloc[4] = count_by_2016.iloc[4]*0.5\n",
    "print(\"Combo-Samping-1\")\n",
    "print(count_by_2016/count_by_2016.sum())\n",
    "print(\"=\"*40)\n",
    "\n",
    "#Iteration 2, Model Name: Combo-Samping-2\n",
    "#Duplicate each non-none example by a factor of 3\n",
    "#Randomly drop 0.55 percent of none examples\n",
    "count_by_2016 = df_train.groupby(by=\"label\").sent_id.count()\n",
    "count_by_2016.iloc[:4] = count_by_2016.iloc[:4]*3\n",
    "count_by_2016.iloc[4] = count_by_2016.iloc[4]*0.45\n",
    "print(\"Combo-Samping-2\")\n",
    "print(count_by_2016/count_by_2016.sum())\n",
    "print(\"=\"*40)\n",
    "\n",
    "#Iteration 2, Model Name: Combo-Samping-3\n",
    "#Duplicate each non-none example by a factor of 5\n",
    "#Randomly drop 60 percent of none examples\n",
    "count_by_2016 = df_train.groupby(by=\"label\").sent_id.count()\n",
    "count_by_2016.iloc[:4] = count_by_2016.iloc[:4]*5\n",
    "count_by_2016.iloc[4] = count_by_2016.iloc[4]*0.4\n",
    "print(\"Combo-Samping-3\")\n",
    "print(count_by_2016/count_by_2016.sum())\n",
    "print(\"=\"*40)\n",
    "\n",
    "#Iteration 3, Model Name: Over-Sampling-1\n",
    "#Duplicate each non-none example by a factor of 2\n",
    "count_by_2016 = df_train.groupby(by=\"label\").sent_id.count()\n",
    "count_by_2016.iloc[:4] = count_by_2016.iloc[:4]*2\n",
    "print(\"Over-Sampling-1\")\n",
    "print(count_by_2016/count_by_2016.sum())\n",
    "print(\"=\"*40)\n",
    "\n",
    "#Iteration 3, Model Name: Over-Sampling-2\n",
    "#Duplicate\n",
    "#positive example by a factor of 1.5\n",
    "#neutral example by a factor of 3\n",
    "#negative example by a factor of 2.2\n",
    "#conflict example by a factor of 5\n",
    "count_by_2016 = df_train.groupby(by=\"label\").sent_id.count()\n",
    "count_by_2016.iloc[0] = count_by_2016.iloc[0]*1.5\n",
    "count_by_2016.iloc[1] = count_by_2016.iloc[1]*3\n",
    "count_by_2016.iloc[2] = count_by_2016.iloc[2]*2.2\n",
    "count_by_2016.iloc[3] = count_by_2016.iloc[3]*5\n",
    "print(\"Over-Sampling-2\")\n",
    "print(count_by_2016/count_by_2016.sum())\n",
    "print(\"=\"*40)"
   ]
  }
 ],
 "metadata": {
  "kernelspec": {
   "display_name": "Python 3",
   "language": "python",
   "name": "python3"
  },
  "language_info": {
   "codemirror_mode": {
    "name": "ipython",
    "version": 3
   },
   "file_extension": ".py",
   "mimetype": "text/x-python",
   "name": "python",
   "nbconvert_exporter": "python",
   "pygments_lexer": "ipython3",
   "version": "3.7.6"
  }
 },
 "nbformat": 4,
 "nbformat_minor": 2
}
